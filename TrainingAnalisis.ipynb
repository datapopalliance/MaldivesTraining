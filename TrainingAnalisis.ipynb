{
 "cells": [
  {
   "cell_type": "markdown",
   "metadata": {},
   "source": [
    "# Maldives covid curve"
   ]
  },
  {
   "cell_type": "markdown",
   "metadata": {},
   "source": [
    "**Code taken from \n",
    "https://joachim-gassen.github.io/tidycovid19/\n",
    "Packages used: tidyverse,tidycovid19,zoo**"
   ]
  },
  {
   "cell_type": "code",
   "execution_count": 2,
   "metadata": {},
   "outputs": [],
   "source": [
    "install.packages(\"tidyverse\")\n",
    "install.packages(\"tidycovid19\")\n",
    "install.packages(\"zoo\")\n",
    "\n",
    "library(tidyverse)\n",
    "library(tidycovid19)\n",
    "library(zoo)"
   ]
  },
  {
   "cell_type": "markdown",
   "metadata": {},
   "source": [
    "## Load John Hopkins COVID 19 data:"
   ]
  },
  {
   "cell_type": "code",
   "execution_count": null,
   "metadata": {},
   "outputs": [],
   "source": [
    "df <- download_merged_data(cached = TRUE, silent = TRUE)"
   ]
  },
  {
   "cell_type": "markdown",
   "metadata": {},
   "source": [
    "**Filter for Maldives to obtain the number of contagious for this country.\n",
    "Calculate the number of daily new cases (confirmed) and a rolling average.**"
   ]
  },
  {
   "cell_type": "code",
   "execution_count": null,
   "metadata": {},
   "outputs": [],
   "source": [
    "df %>%\n",
    "  filter(country == \"Maldives\") %>%\n",
    "  mutate(\n",
    "    new_cases = confirmed - lag(confirmed),\n",
    "    ave_new_cases = rollmean(new_cases, 3, na.pad=TRUE, align=\"right\")\n",
    "  ) %>%\n",
    "  filter(!is.na(new_cases), !is.na(ave_new_cases)) %>%"
   ]
  },
  {
   "cell_type": "markdown",
   "metadata": {},
   "source": [
    "**Plot the data from new cases and average new cases** "
   ]
  },
  {
   "cell_type": "code",
   "execution_count": null,
   "metadata": {},
   "outputs": [],
   "source": [
    "\n",
    "  ggplot(aes(x = date)) +\n",
    "  geom_bar(aes(y = new_cases), stat = \"identity\", fill = \"lightblue\") +\n",
    "  geom_line(aes(y = ave_new_cases), color =\"red\") +\n",
    "  scale_x_date(breaks = as.Date(c(\"2020-03-08\", \"2020-04-15\", \"2020-06-08\", \"2020-07-08\",\"2020-07-23\",\"2020-09-27\",\"2020-12-07\")),\n",
    "               minor_breaks = as.Date(c(\"2020-04-15\", \"2020-07-08\")))+\n",
    "  theme_minimal()\n"
   ]
  },
  {
   "cell_type": "markdown",
   "metadata": {},
   "source": [
    "# Maldives Coronavirus Disease Prevention Map"
   ]
  },
  {
   "cell_type": "markdown",
   "metadata": {},
   "source": [
    "Facebook Population (Tile Level)\n",
    "\n",
    "Description:Location density maps are heat maps, which show where people are located before, during and after a disaster and where populations have increased or decreased. We can compare this information to historical records, like population estimates based on satellite images. Comparing these data sets can help response organizations understand areas impacted by a natural disaster. The following metrics are are included in the map: * Date Time - The time period represented by the current map layer. * Standard (Z) Score - The number of standard deviations by which the crisis population count in the location differs from the baseline count. * Baseline:People - The average number of people we expect to be in the area during the specified time based on pre-disaster estimates. * Crisis:People - The number of people observed in the tile during the selected time period. * Difference - The difference between the population at the time of the crisis and the population during the baseline. * Percent Change - The percentage difference between the population at the time of the crisis and the population during the baseline. For more information go to the Help Page https://fburl.com/disastermaps_help"
   ]
  },
  {
   "cell_type": "markdown",
   "metadata": {},
   "source": [
    "The Facebook population maps were downloaded from:\n",
    "https://www.facebook.com/geoinsights-portal/\n",
    "and then uploaded to the DPA drive folder: \n",
    "https://drive.google.com/drive/u/0/folders/117og1_1L1ht0vUEhOXj19yJXlGv4sgcI"
   ]
  },
  {
   "cell_type": "markdown",
   "metadata": {},
   "source": [
    "**Read and bind all the csv cointained in the corresponding folder**"
   ]
  },
  {
   "cell_type": "code",
   "execution_count": null,
   "metadata": {},
   "outputs": [],
   "source": [
    "options(scipen=999) \n",
    "batch_read <- function(path, pattern, recursive = FALSE, read_fun, ...) {\n",
    "  data.files <- list.files(path, pattern = pattern, recursive = recursive)\n",
    "  data <- lapply(paste0(path, data.files), read_fun, ...)\n",
    "  data <- do.call(\"rbind\", data)\n",
    "  data\n",
    "}\n",
    "\n",
    "idb <- batch_read(\n",
    "  path = \"./populationFB/data/\"\n",
    "  , pattern = \"\\\\.csv\"\n",
    "  , read_fun = read.csv\n",
    "  , header = TRUE\n",
    ")"
   ]
  },
  {
   "cell_type": "markdown",
   "metadata": {},
   "source": [
    "**For Kepler to display a temporal visualization of data\n",
    "A date_time columns needs to be included in the following format:\n",
    "yyyy-mm-dd 00:00:00.0\n",
    "the following script adds a synthetic column named millisec \n",
    "that is pasted to the date column**"
   ]
  },
  {
   "cell_type": "code",
   "execution_count": null,
   "metadata": {},
   "outputs": [],
   "source": [
    "idb$date <- as.factor(sapply(as.character(idb$date_time), function(x) {strsplit(x, \"\\\\ \")[[1]][1]}))\n",
    "df<-idb[,c(1,2,3,5,11,14)]\n",
    "df$millisec <- cumsum(c(0,as.numeric(diff(df$date))!=0))\n",
    "df$time<-rep(\"00:00:01.\", nrow(df))\n",
    "df$millisec<-paste(df$time, df$millisec, sep=\"\")\n",
    "df$time<-NULL\n",
    "\n",
    "df$date<-as.character(df$date)\n",
    "df$dateTime<-paste(df$date, df$millisec, sep=\" \")\n",
    "df<-df[,c(1,2,3,5,8)]\n",
    "\n",
    "write.csv(df, \"Preprocessed_data_for_kepler.csv\", row.names=FALSE)"
   ]
  },
  {
   "cell_type": "markdown",
   "metadata": {},
   "source": [
    "**Then use this csv in https://kepler.gl/**\n",
    "\n",
    "**See https://docs.google.com/document/d/1qyuaCTgDr5b6ACVVbXanYrA-PNHVsuKu5JeH4zOUGao/edit**"
   ]
  },
  {
   "cell_type": "markdown",
   "metadata": {},
   "source": [
    "# Maldives Mobility percent change"
   ]
  },
  {
   "cell_type": "markdown",
   "metadata": {},
   "source": [
    "Data from Movement Between Tiles Facebook Data"
   ]
  },
  {
   "cell_type": "markdown",
   "metadata": {},
   "source": [
    "Description:What specific pairs of map tiles are people moving between more or less often than we would expect based on pre-crisis levels? This dataset contains information about the number of people moving between tile pairs over a given time period. We measure this during baseline (movement between tile pairs averaged across the three weeks prior to the disaster) as well, so we can understand how many more or fewer people are moving during the disaster period compared to usual. This helps us distinguish disaster related movements from people’s normal migration patterns. The following metrics are available: * Date Time - The time period represented by the current map layer. * Starting Location - The region or tile where the movement of the group started. * Ending Location: The region or tile where the movement of the group ended. * Length (km) - The distance traveled in kilometers. * Baseline: People Moving - The total number of people who moved from Starting Location to Ending Location on average during the weeks before the disaster began. * Crisis: People Moving - The total number of people who moved from Starting Location to Ending Location during the time period specified * Difference - The difference between the number of people moving from Starting Location to Ending Location during the disaster compared to before the disaster. * Percent Change - The percentage difference between the number of people moving from Starting Location to Ending Location during the disaster compared to before the disaster. * Standard (Z) Score: The number of standard deviations by which the count of people moving during the crisis differs from the number of people moving during the baseline. Any z-value greater than 4 or smaller than -4 is clipped at 4 or -4. For more information go to the Help Page https://fburl.com/disastermaps_help"
   ]
  },
  {
   "cell_type": "code",
   "execution_count": null,
   "metadata": {},
   "outputs": [],
   "source": [
    "options(scipen=999)  # turn-off scientific notation like 1e+48"
   ]
  },
  {
   "cell_type": "markdown",
   "metadata": {},
   "source": [
    "**Read all csv**"
   ]
  },
  {
   "cell_type": "code",
   "execution_count": null,
   "metadata": {},
   "outputs": [],
   "source": [
    "batch_read <- function(path, pattern, recursive = FALSE, read_fun, ...) {\n",
    "  data.files <- list.files(path, pattern = pattern, recursive = recursive)\n",
    "  data <- lapply(paste0(path, data.files), read_fun, ...)\n",
    "  data <- do.call(\"rbind\", data)\n",
    "  data\n",
    "}\n",
    "\n",
    "#\n",
    "rdb <- batch_read(\n",
    "  path = \"./BetwTiles/\"\n",
    "  , pattern = \"\\\\.csv\"\n",
    "  , read_fun = read.csv\n",
    "  , header = TRUE\n",
    ")"
   ]
  },
  {
   "cell_type": "markdown",
   "metadata": {},
   "source": [
    "**Process and clean the data**"
   ]
  },
  {
   "cell_type": "code",
   "execution_count": null,
   "metadata": {},
   "outputs": [],
   "source": [
    "db<-rdb[,c(1,2,4,6,7,11:14,16:20)]\n",
    "\n",
    "\n",
    "db$origen <- as.factor(sapply(as.character(db$geometry), function(x) {strsplit(x, \"\\\\,\")[[1]][1]}))\n",
    "db$destino <- as.factor(sapply(as.character(db$geometry), function(x) {strsplit(x, \"\\\\,\")[[1]][2]}))\n",
    "db$geometry<-NULL\n",
    "\n",
    "db$origen <- as.character(db$origen)\n",
    "db$destino <- as.character(db$destino)\n",
    "\n",
    "geom<-db[,c(14,15)]\n",
    "\n",
    "#write.csv(geom, \"./BetwTiles_rdb.csv\", row.names=FALSE)"
   ]
  },
  {
   "cell_type": "markdown",
   "metadata": {},
   "source": [
    "**Read the clean data**"
   ]
  },
  {
   "cell_type": "code",
   "execution_count": null,
   "metadata": {},
   "outputs": [],
   "source": [
    "geom<-read.csv(\"BetwTiles_rdb2_curated.csv\")"
   ]
  },
  {
   "cell_type": "markdown",
   "metadata": {},
   "source": [
    "**Remove dispensable coordinates**"
   ]
  },
  {
   "cell_type": "code",
   "execution_count": null,
   "metadata": {},
   "outputs": [],
   "source": [
    "db<-db[,c(1:9)]"
   ]
  },
  {
   "cell_type": "markdown",
   "metadata": {},
   "source": [
    "**Join with recent extracted and curated coordinates**"
   ]
  },
  {
   "cell_type": "code",
   "execution_count": null,
   "metadata": {},
   "outputs": [],
   "source": [
    "dbb<-cbind(db,geom)"
   ]
  },
  {
   "cell_type": "markdown",
   "metadata": {},
   "source": [
    "**Add identifier**"
   ]
  },
  {
   "cell_type": "code",
   "execution_count": null,
   "metadata": {},
   "outputs": [],
   "source": [
    "dbb$ide<-seq.int(nrow(dbb))\n",
    "#write.csv(dbb, \"./BetwTiles_rdb_geometries.csv\", row.names=FALSE)"
   ]
  },
  {
   "cell_type": "markdown",
   "metadata": {},
   "source": [
    "**Reading the clean data**"
   ]
  },
  {
   "cell_type": "code",
   "execution_count": null,
   "metadata": {},
   "outputs": [],
   "source": [
    "dbb<-read.csv(\"BetwTiles_rdb_geometries.csv\")"
   ]
  },
  {
   "cell_type": "markdown",
   "metadata": {},
   "source": [
    "**Assign coordinates into Atolls\n",
    " using shapefiles downloaded from \n",
    " https://data.humdata.org/dataset/maldives-administrative-boundaries-polygon-polyline\n",
    " Download the one named \"mdv_devinfo_admin2b\"**\n"
   ]
  },
  {
   "cell_type": "code",
   "execution_count": null,
   "metadata": {},
   "outputs": [],
   "source": [
    "#install.libraries(\"rgdal\")\n",
    "library(rgdal)\n",
    "\n",
    "setwd(\"./shapefiles/\")\n",
    "geo <- readOGR(dsn=\"mdv_devinfo_admin2b\", layer=\"MDV_DevInfo_Admin2B\")\n",
    "geo <- geo[,c(1,2,3,9)]\n",
    "plot(geo)\n",
    "\n",
    "library(ggplot2)\n",
    "geodf<-fortify(geo, region=\"ID_\")\n",
    "head(geodf)\n",
    "geo$id <- row.names(geo)  "
   ]
  },
  {
   "cell_type": "markdown",
   "metadata": {},
   "source": [
    "**Allocate an id variable to the sp data\n",
    "Spatial Allocatio in \n",
    "Use first lng**"
   ]
  },
  {
   "cell_type": "code",
   "execution_count": null,
   "metadata": {},
   "outputs": [],
   "source": [
    "coords<-dbb[,c(10,11)]"
   ]
  },
  {
   "cell_type": "markdown",
   "metadata": {},
   "source": [
    "**Set as spatial object**"
   ]
  },
  {
   "cell_type": "code",
   "execution_count": null,
   "metadata": {},
   "outputs": [],
   "source": [
    "sp <- SpatialPoints(coords)\n",
    "rm(coords)"
   ]
  },
  {
   "cell_type": "markdown",
   "metadata": {},
   "source": [
    "**Use the following Coordinate Reference System (CRS)**"
   ]
  },
  {
   "cell_type": "code",
   "execution_count": null,
   "metadata": {},
   "outputs": [],
   "source": [
    "|proj4string(sp) <- \"+proj=longlat +datum=WGS84 +no_defs +ellps=WGS84 +towgs84=0,0,0\"\n",
    "proj4string(geo) <-\"+proj=longlat +datum=WGS84 +no_defs +ellps=WGS84 +towgs84=0,0,0\""
   ]
  },
  {
   "cell_type": "markdown",
   "metadata": {},
   "source": [
    "**Assigning points into polygons**"
   ]
  },
  {
   "cell_type": "code",
   "execution_count": null,
   "metadata": {},
   "outputs": [],
   "source": [
    "assign <- over(sp, geo) \n",
    "dim(assign)"
   ]
  },
  {
   "cell_type": "markdown",
   "metadata": {},
   "source": [
    "**Use rownames just after over function to use the in the following merge**"
   ]
  },
  {
   "cell_type": "code",
   "execution_count": null,
   "metadata": {},
   "outputs": [],
   "source": [
    "assign$rous <- rownames(assign)\n",
    "dbb$rous<-rownames(dbb)\n",
    "\n",
    "assign$rous<-as.factor(as.character(assign$rous))\n",
    "dbb$rous<-as.factor(as.character(dbb$rous))\n",
    "names(assign)[1]<-\"ID\"\n",
    "\n",
    "fdf <- merge(x=assign, y=dbb, by.x=\"rous\", by.y=\"rous\")\n",
    "\n",
    "#fdf<- fdf[!is.na(fdf$ID),]\n",
    "#NAs can be removed, prefer not, if necessary these will be named as \"Indian Ocean\", \n",
    "#which is the original name in the raw data"
   ]
  },
  {
   "cell_type": "markdown",
   "metadata": {},
   "source": [
    "**Rename these columns**"
   ]
  },
  {
   "cell_type": "code",
   "execution_count": null,
   "metadata": {},
   "outputs": [],
   "source": [
    "names(fdf)[3]<-\"origen1\"\n",
    "names(fdf)[4]<-\"origen3\"\n",
    "names(fdf)[5]<-\"origen0\""
   ]
  },
  {
   "cell_type": "markdown",
   "metadata": {},
   "source": [
    "**Second Assign coordinates into Atolls for the destination coordinates**\n"
   ]
  },
  {
   "cell_type": "code",
   "execution_count": null,
   "metadata": {},
   "outputs": [],
   "source": [
    "setwd(\"./shapefiles/\")\n",
    "geo <- readOGR(dsn=\"mdv_devinfo_admin2b\", layer=\"MDV_DevInfo_Admin2B\")\n",
    "geo <- geo[,c(1,2,3,9)]\n",
    "plot(geo)\n",
    "\n",
    "library(ggplot2)\n",
    "geodf<-fortify(geo, region=\"ID_\")\n",
    "head(geodf)\n",
    "geo$id <- row.names(geo) # allocate an id variable to the sp data"
   ]
  },
  {
   "cell_type": "markdown",
   "metadata": {},
   "source": [
    "**Second Spatial Allocatio in First lng**"
   ]
  },
  {
   "cell_type": "code",
   "execution_count": null,
   "metadata": {},
   "outputs": [],
   "source": [
    "coords<-dbb[,c(12,13)]"
   ]
  },
  {
   "cell_type": "markdown",
   "metadata": {},
   "source": [
    "**Set as spatial object**"
   ]
  },
  {
   "cell_type": "code",
   "execution_count": null,
   "metadata": {},
   "outputs": [],
   "source": [
    "sp <- SpatialPoints(coords)\n",
    "rm(coords)"
   ]
  },
  {
   "cell_type": "markdown",
   "metadata": {},
   "source": [
    "**CRS**"
   ]
  },
  {
   "cell_type": "code",
   "execution_count": null,
   "metadata": {},
   "outputs": [],
   "source": [
    "proj4string(sp) <- \"+proj=longlat +datum=WGS84 +no_defs +ellps=WGS84 +towgs84=0,0,0\"\n",
    "proj4string(geo) <-\"+proj=longlat +datum=WGS84 +no_defs +ellps=WGS84 +towgs84=0,0,0\"\n",
    "\n",
    "assign <- over(sp, geo) \n",
    "dim(assign)"
   ]
  },
  {
   "cell_type": "markdown",
   "metadata": {},
   "source": [
    "**Get rownames just after over function**"
   ]
  },
  {
   "cell_type": "code",
   "execution_count": null,
   "metadata": {},
   "outputs": [],
   "source": [
    "assign$rous <- rownames(assign)\n",
    "dbb<-dbb[,c(3,12:14)]\n",
    "dbb$rous<-rownames(dbb)\n",
    "\n",
    "assign$rous<-as.factor(as.character(assign$rous))\n",
    "dbb$rous<-as.factor(as.character(dbb$rous))\n",
    "names(assign)[1]<-\"ID\"\n",
    "\n",
    "fdf2 <- merge(x=assign, y=dbb, by.x=\"rous\", by.y=\"rous\")\n",
    "\n",
    "#fdf2<- fdf2[!is.na(fdf2$ID),]\n",
    "#NAs can be removed, prefer not, if necessary these will be named as \"Indian Ocean\", \n",
    "#which is the original name in the raw data\n",
    "\n",
    "names(fdf2)[3]<-\"destination1\"\n",
    "names(fdf2)[4]<-\"destination3\"\n",
    "names(fdf2)[5]<-\"destination0\"\n",
    "\n",
    "\n",
    "fin <- merge(x=fdf, y=fdf2, by.x=\"ide\", by.y=\"ide\")\n",
    "\n",
    "final<-fin[,c(1,4,5,6,8:20,23,24,25)]\n",
    "\n",
    "#write.csv(final, \"/home/memo/Documents/perso/DataPopAlliance/maldives/dir/geoinsights/BetwTiles_rdb_official_polygons.csv\", row.names=FALSE)"
   ]
  },
  {
   "cell_type": "markdown",
   "metadata": {},
   "source": [
    "**Read final data**"
   ]
  },
  {
   "cell_type": "code",
   "execution_count": null,
   "metadata": {},
   "outputs": [],
   "source": [
    "final<-read.csv(\"./BetwTiles_rdb_official_polygons.csv\")"
   ]
  },
  {
   "cell_type": "markdown",
   "metadata": {},
   "source": [
    "**From final object, subset only intra Atolls movement\n",
    "not between diff Atolls\n",
    "internalMobility(db0)**"
   ]
  },
  {
   "cell_type": "code",
   "execution_count": null,
   "metadata": {},
   "outputs": [],
   "source": [
    "im<-subset(final, origen1==destination1)\n",
    "\n",
    "library(lubridate)\n",
    "im$date <- as.factor(sapply(as.character(im$date_time), function(x) {strsplit(x, \"\\\\ \")[[1]][1]}))\n",
    "im$time <- as.factor(sapply(as.character(im$date_time), function(x) {strsplit(x, \"\\\\ \")[[1]][2]}))\n",
    "\n",
    "\n",
    "median<-aggregate(percent_change~date, FUN=median, data=im, na.rm=TRUE)\n",
    "median$date<-as.Date(median$date, format=\"%Y-%m-%d\")\n",
    "\n",
    "library(ggplot2)\n",
    "png(\"./interMobility_perc_change_median.png\", width = 29, height = 8, units = 'in', res = 300)\n",
    "ggplot(median, aes(x=date, y=percent_change, color=percent_change)) +\n",
    "  geom_point(size=4) +\n",
    "  theme(text = element_text(size=30))+\n",
    "  xlab(\"Date\") + ylab(\"Mobility Percent Change\")+\n",
    "  geom_smooth(span = 0.3)+\n",
    "  scale_x_date(breaks = as.Date(c(\"2020-04-15\", \"2020-06-08\",\"2020-07-23\",\"2020-09-27\",\"2020-12-07\")),\n",
    "               minor_breaks = as.Date(c(\"2020-04-15\", \"2020-07-23\")))\n",
    "  #theme_minimal()\n",
    "dev.off()"
   ]
  },
  {
   "cell_type": "markdown",
   "metadata": {},
   "source": [
    "**Since we are interested in plotting for all the atolls, we use origen1, but it could also be destination1 column.**"
   ]
  },
  {
   "cell_type": "code",
   "execution_count": 1,
   "metadata": {},
   "outputs": [
    {
     "ename": "ERROR",
     "evalue": "Error in library(rgdal): there is no package called ‘rgdal’\n",
     "output_type": "error",
     "traceback": [
      "Error in library(rgdal): there is no package called ‘rgdal’\nTraceback:\n",
      "1. library(rgdal)"
     ]
    }
   ],
   "source": [
    "atollsMedian<-aggregate(percent_change~date+origen1, FUN=median, data=im, na.rm=TRUE)\n",
    "atollsMedian$date<-as.Date(atollsMedian$date, format=\"%Y-%m-%d\")\n",
    "\n",
    "library(dplyr)\n",
    "\n",
    "png(\"./interMobility_perc_change_median_perAtoll.png\", width = 9, height = 6, units = 'in', res = 300)\n",
    "atollsMedian %>%\n",
    "  ggplot(aes(x = date, y = percent_change)) + \n",
    "  geom_point(alpha = 0.25) +\n",
    "  facet_wrap(~ origen1, ncol = 4)+\n",
    "  xlab(\"Date\") +\n",
    "  ylab(\"Mobility Percent Change\")+\n",
    "  theme_minimal()+\n",
    "  geom_smooth(span = 0.3)\n",
    "dev.off()"
   ]
  },
  {
   "cell_type": "markdown",
   "metadata": {},
   "source": [
    "#  Median change in mobility over 2020 at the Atoll level."
   ]
  },
  {
   "cell_type": "markdown",
   "metadata": {},
   "source": [
    "**Continue from previous object. (see Maldvs_MovBetTiles_Figs_6_and_7.R) or read it, if written**"
   ]
  },
  {
   "cell_type": "code",
   "execution_count": null,
   "metadata": {},
   "outputs": [],
   "source": [
    "final<-read.csv(\"./BetwTiles_rdb_official_polygons.csv\")"
   ]
  },
  {
   "cell_type": "markdown",
   "metadata": {},
   "source": [
    "Internal Mobility (im), mobility intra Atolls, not between diff Atolls"
   ]
  },
  {
   "cell_type": "code",
   "execution_count": null,
   "metadata": {},
   "outputs": [],
   "source": [
    "im<-subset(final, origen1==destination1)\n",
    "\n",
    "\n",
    "im$date <- as.factor(sapply(as.character(im$date_time), function(x) {strsplit(x, \"\\\\ \")[[1]][1]}))\n",
    "im$time <- as.factor(sapply(as.character(im$date_time), function(x) {strsplit(x, \"\\\\ \")[[1]][2]}))\n"
   ]
  },
  {
   "cell_type": "markdown",
   "metadata": {},
   "source": [
    "**Both origen1 and destination1 are the same**"
   ]
  },
  {
   "cell_type": "code",
   "execution_count": null,
   "metadata": {},
   "outputs": [],
   "source": [
    "imMedian<-aggregate(percent_change~origen1, FUN=median, data=im, na.rm=TRUE)"
   ]
  },
  {
   "cell_type": "markdown",
   "metadata": {},
   "source": [
    "**Cloropleth**\n",
    "\n",
    "**Download shapefile from \n",
    "https://drive.google.com/drive/u/0/folders/1FUpQE3G4V193xM0_z3u_6OFOSEiyCx7y**"
   ]
  },
  {
   "cell_type": "code",
   "execution_count": null,
   "metadata": {},
   "outputs": [],
   "source": [
    "setwd(\"./shapefiles/\")\n",
    "geo <- readOGR(dsn=\"mdv_devinfo_admin2b\", layer=\"MDV_DevInfo_Admin2B\")\n",
    "geo<-geo[,c(1,2)]"
   ]
  },
  {
   "cell_type": "markdown",
   "metadata": {},
   "source": [
    "**Load libraries**"
   ]
  },
  {
   "cell_type": "code",
   "execution_count": null,
   "metadata": {},
   "outputs": [],
   "source": [
    "library(\"rgdal\")\n",
    "library(data.table)\n",
    "library(plyr)\n",
    "library(ggthemes)\n",
    "library(data.table)\n",
    "library(ggplot2)\n",
    "library(viridis)"
   ]
  },
  {
   "cell_type": "code",
   "execution_count": null,
   "metadata": {},
   "outputs": [],
   "source": [
    "shapefile<-geo\n",
    "#shapefile = readOGR(dsn = \"DIRECTORY WITH SHAPEFILES\", layer = \"THE ACTUAL SHAPEFILE\")\n",
    "shapefile@data$id = rownames(shapefile@data)\n",
    "shapefile.points = fortify(shapefile, region = \"id\")\n",
    "shapefile.df = join(shapefile.points, shapefile@data, by = \"id\")\n",
    "shapefile.df = subset(shapefile.df, select = c(long, lat, group, NAME1_))\n",
    "names(shapefile.df) = c(\"long\", \"lat\", \"group\", \"NAME1\")\n",
    "names(imMedian)[1]<-\"NAME1\"\n",
    "full.data = join(imMedian, shapefile.df, by = \"NAME1\", type = \"full\")\n",
    "\n",
    "svg(\"./choropleth_mobility_02c.svg\", width = 8, height = 8)\n",
    "ggplot(full.data, aes(x = long, y = lat, group = group,\n",
    "       fill = percent_change)) +\n",
    "    geom_polygon(color = \"grey75\", size = 0.2) +\n",
    "    coord_equal() +\n",
    "    #scale_fill_viridis() +\n",
    "    #geom_path(colour=\"black\", lwd=0.05) +\n",
    "    #facet_wrap(~ variable ) +\n",
    "    #theme_map() + facet_wrap(~ variable)+\n",
    "    #scale_fill_distiller() +\n",
    "    #labs(title = \"2 halft(CARPETAS DE INVESTIGACIÓN 2020)\",\n",
    "    #     fill = NULL) +\n",
    "    #theme_void() +\n",
    "    theme(legend.position = \"bottom\",\n",
    "          panel.background = element_rect(fill = NA, colour = \"#cccccc\"))+ \n",
    "    scale_fill_viridis(option = \"cividis\", direction = -1)\n",
    "dev.off()"
   ]
  },
  {
   "cell_type": "markdown",
   "metadata": {},
   "source": [
    "# Encounter probabilities among the Atolls"
   ]
  },
  {
   "cell_type": "markdown",
   "metadata": {},
   "source": [
    "**Colocation data from geoinsights facebook**"
   ]
  },
  {
   "cell_type": "markdown",
   "metadata": {},
   "source": [
    "Turn-off scientific notation like 1e+48"
   ]
  },
  {
   "cell_type": "code",
   "execution_count": null,
   "metadata": {},
   "outputs": [],
   "source": [
    "options(scipen=999)  "
   ]
  },
  {
   "cell_type": "markdown",
   "metadata": {},
   "source": [
    "**Read all csv**"
   ]
  },
  {
   "cell_type": "code",
   "execution_count": null,
   "metadata": {},
   "outputs": [],
   "source": [
    "batch_read <- function(path, pattern, recursive = FALSE, read_fun, ...) {\n",
    "  data.files <- list.files(path, pattern = pattern, recursive = recursive)\n",
    "  data <- lapply(paste0(path, data.files), read_fun, ...)\n",
    "  data <- do.call(\"rbind\", data)\n",
    "  data\n",
    "}\n",
    "\n",
    "rdb <- batch_read(\n",
    "  path = \"./colocation/\"\n",
    "  , pattern = \"\\\\.csv\"\n",
    "  , read_fun = read.csv\n",
    "  , header = TRUE\n",
    ")\n",
    "\n",
    "db<-rdb[,c(2,8,13,15)]\n",
    "\n",
    "library(lubridate)"
   ]
  },
  {
   "cell_type": "markdown",
   "metadata": {},
   "source": [
    "**Prepare columns in date format and weeks**"
   ]
  },
  {
   "cell_type": "code",
   "execution_count": null,
   "metadata": {},
   "outputs": [],
   "source": [
    "db$date<-as.Date(db$ds, format=\"%Y-%m-%d\")\n",
    "db$Week_Day<- as.numeric(format(db$date, format='%w'))\n",
    "db$week <- db$date + (0 - db$Week_Day)"
   ]
  },
  {
   "cell_type": "markdown",
   "metadata": {},
   "source": [
    "**Get the mean of the link_value (probability of encounter)**"
   ]
  },
  {
   "cell_type": "code",
   "execution_count": null,
   "metadata": {},
   "outputs": [],
   "source": [
    "dbb<-aggregate(link_value~polygon1_name+polygon2_name+week, FUN=mean, data=db, na.rm=TRUE)"
   ]
  },
  {
   "cell_type": "markdown",
   "metadata": {},
   "source": [
    "**Weeks of interest from covid curve, same weeks used before**"
   ]
  },
  {
   "cell_type": "code",
   "execution_count": null,
   "metadata": {},
   "outputs": [],
   "source": [
    "w1<-subset(dbb, week==\"2020-03-29\")\n",
    "w2<-subset(dbb, week==\"2020-05-10\")\n",
    "w3<-subset(dbb, week==\"2020-06-07\")\n",
    "w4<-subset(dbb, week==\"2020-08-16\")\n",
    "ws<-rbind(w1,w2,w3,w4)\n",
    "ws<-ws[order(-ws$link_value),]\n",
    "ws$id<-seq.int(nrow(ws))"
   ]
  },
  {
   "cell_type": "markdown",
   "metadata": {},
   "source": [
    "**Visually identified the rows where the origen and destination atoll are the same\n",
    "they finish in row 61**"
   ]
  },
  {
   "cell_type": "code",
   "execution_count": null,
   "metadata": {},
   "outputs": [],
   "source": [
    "mi<-ws[1:61,]"
   ]
  },
  {
   "cell_type": "markdown",
   "metadata": {},
   "source": [
    "**Prepare data to combine it according to the week of interest**"
   ]
  },
  {
   "cell_type": "code",
   "execution_count": null,
   "metadata": {},
   "outputs": [],
   "source": [
    "m1<-subset(mi, week==\"2020-03-29\")\n",
    "m2<-subset(mi, week==\"2020-05-10\")\n",
    "m3<-subset(mi, week==\"2020-06-07\")\n",
    "m4<-subset(mi, week==\"2020-08-16\")\n",
    "\n",
    "m1$Encounter<-paste(m1$polygon1_name, m1$polygon2_name, sep=\"-\")\n",
    "m2$Encounter<-paste(m2$polygon1_name, m2$polygon2_name, sep=\"-\")\n",
    "m3$Encounter<-paste(m3$polygon1_name, m3$polygon2_name, sep=\"-\")\n",
    "m4$Encounter<-paste(m4$polygon1_name, m4$polygon2_name, sep=\"-\")\n",
    "\n",
    "f1<-m1[,c(6,3,4)]\n",
    "f2<-m2[,c(6,3,4)]\n",
    "f3<-m3[,c(6,3,4)]\n",
    "f4<-m4[,c(6,3,4)]\n",
    "\n",
    "\n",
    "names(f1)[3]<-\"March_29\"\n",
    "names(f2)[3]<-\"May_10\"\n",
    "names(f3)[3]<-\"June_07\"\n",
    "names(f4)[3]<-\"August_16\"\n",
    "\n",
    "f1$week<-NULL\n",
    "f2$week<-NULL\n",
    "f3$week<-NULL\n",
    "f4$week<-NULL"
   ]
  },
  {
   "cell_type": "markdown",
   "metadata": {},
   "source": [
    "**Merge weeks data, get the mean and print a table**"
   ]
  },
  {
   "cell_type": "code",
   "execution_count": null,
   "metadata": {},
   "outputs": [],
   "source": [
    "final <- merge(x=f1, y=f2, by.x=\"Encounter\", by.y=\"Encounter\")\n",
    "final <- merge(x=final, y=f3, by.x=\"Encounter\", by.y=\"Encounter\")\n",
    "final <- merge(x=final, y=f4, by.x=\"Encounter\", by.y=\"Encounter\")\n",
    "\n",
    "final<-final[order(-final$March_29),]\n",
    "final[,-1] <-round(final[,-1],3) \n",
    "final$mean <- rowMeans(subset(final, select=c(2:5)), na.rm = TRUE)\n",
    "\n",
    "\n",
    "library(gridExtra)\n",
    "png(\"final_coloction_same_atoll.png\", height=10, width=10, units = 'in', res = 300)\n",
    "grid.table(final)\n",
    "dev.off()"
   ]
  },
  {
   "cell_type": "code",
   "execution_count": null,
   "metadata": {},
   "outputs": [],
   "source": []
  },
  {
   "cell_type": "code",
   "execution_count": null,
   "metadata": {},
   "outputs": [],
   "source": []
  }
 ],
 "metadata": {
  "kernelspec": {
   "display_name": "R",
   "language": "R",
   "name": "ir"
  },
  "language_info": {
   "codemirror_mode": "r",
   "file_extension": ".r",
   "mimetype": "text/x-r-source",
   "name": "R",
   "pygments_lexer": "r",
   "version": "3.6.1"
  }
 },
 "nbformat": 4,
 "nbformat_minor": 4
}
